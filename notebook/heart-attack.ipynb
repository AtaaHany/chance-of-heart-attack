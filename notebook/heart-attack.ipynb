{
 "cells": [
  {
   "cell_type": "markdown",
   "metadata": {
    "_cell_guid": "b1076dfc-b9ad-4769-8c92-a6c4dae69d19",
    "_uuid": "8f2839f25d086af736a60e9eeb907d3b93b6e0e5"
   },
   "source": [
    "****\n",
    "   \n"
   ]
  },
  {
   "cell_type": "markdown",
   "metadata": {
    "tags": []
   },
   "source": [
    "# <h1>About the problem</h1>    "
   ]
  },
  {
   "cell_type": "markdown",
   "metadata": {},
   "source": [
    "   <p>A heart attack, also called a myocardial infarction, happens when a part of the heart muscle doesn't get enough blood.<br>\n",
    "    The more time that passes without treatment to restore blood flow, the greater the damage to the heart muscle. </p><br>\n",
    "    \n",
    "   <h3> What are the symptoms of heart attack?</h3>\n",
    "    \n",
    "   <b>The major symptoms of a heart attack are:</b> <br>\n",
    "    -Chest pain or discomfort.<br>\n",
    "    -Feeling weak, light-headed, or faint.<br>\n",
    "    -Pain or discomfort in the jaw, neck, or back.<br>\n",
    "    -Pain or discomfort in one or both arms or shoulders.<br>\n",
    "    -Shortness of breath  <br><br><br>\n",
    "    \n",
    "   <b>Source:</b> <a href='https://www.cdc.gov/heartdisease/heart_attack.htm#:~:text=A%20heart%20attack%2C%20also%20called,main%20cause%20of%20heart%20attack.'>Click here!</a>\n",
    "    \n",
    "    \n",
    "    \n",
    "    "
   ]
  },
  {
   "cell_type": "markdown",
   "metadata": {},
   "source": [
    "****"
   ]
  },
  {
   "cell_type": "markdown",
   "metadata": {},
   "source": [
    " ## <h2>Data Dictionary<h2>\n"
   ]
  },
  {
   "cell_type": "markdown",
   "metadata": {},
   "source": [
    "<p>\n",
    "<b>Age:</b> Age of the patient\n",
    "<b>Sex:</b> Sex of the patient\n",
    "\n",
    "<b>exang:</b> exercise induced angina (1 = yes; 0 = no)\n",
    "\n",
    "<b>ca:</b> number of major vessels (0-3)\n",
    "\n",
    "<b>cp:</b> Chest Pain type\n",
    "    \n",
    "Value 1: typical angina<br> \n",
    "Value 2: atypical angina<br> \n",
    "Value 3: non-anginal pain <br>\n",
    "Value 4: asymptomatic trtbps : resting blood pressure (in mm Hg)\n",
    "\n",
    "<b>chol:</b> cholestoral in mg/dl fetched via BMI sensor\n",
    "\n",
    "<b>fbs:</b> (fasting blood sugar > 120 mg/dl) (1 = true; 0 = false)\n",
    "\n",
    "<b>rest_ecg:</b> resting electrocardiographic results\n",
    "    \n",
    "Value 0: normal <br>\n",
    "Value 1: having ST-T wave abnormality (T wave inversions and/or ST elevation or depression of > 0.05 mV) <br> \n",
    "Value 2: showing probable or definite left ventricular hypertrophy by Estes' criteria <br>\n",
    " <b>thalach:</b> maximum heart rate achieved <br>\n",
    "\n",
    "<b>target:</b> 0= less chance of heart attack 1= more chance of heart attack</p> <br>"
   ]
  },
  {
   "cell_type": "markdown",
   "metadata": {},
   "source": [
    "****"
   ]
  },
  {
   "cell_type": "markdown",
   "metadata": {
    "jp-MarkdownHeadingCollapsed": true,
    "tags": []
   },
   "source": [
    "# <h2>EDA<h2>"
   ]
  },
  {
   "cell_type": "code",
   "execution_count": 1,
   "metadata": {},
   "outputs": [],
   "source": [
    "import numpy as np # linear algebra\n",
    "import pandas as pd # data processing, CSV file I/O (e.g. pd.read_csv)\n",
    "\n",
    "import os # Functions for interacting with the operating system\n"
   ]
  },
  {
   "cell_type": "code",
   "execution_count": 2,
   "metadata": {},
   "outputs": [
    {
     "data": {
      "text/html": [
       "<div>\n",
       "<style scoped>\n",
       "    .dataframe tbody tr th:only-of-type {\n",
       "        vertical-align: middle;\n",
       "    }\n",
       "\n",
       "    .dataframe tbody tr th {\n",
       "        vertical-align: top;\n",
       "    }\n",
       "\n",
       "    .dataframe thead th {\n",
       "        text-align: right;\n",
       "    }\n",
       "</style>\n",
       "<table border=\"1\" class=\"dataframe\">\n",
       "  <thead>\n",
       "    <tr style=\"text-align: right;\">\n",
       "      <th></th>\n",
       "      <th>age</th>\n",
       "      <th>sex</th>\n",
       "      <th>cp</th>\n",
       "      <th>trtbps</th>\n",
       "      <th>chol</th>\n",
       "      <th>fbs</th>\n",
       "      <th>restecg</th>\n",
       "      <th>thalachh</th>\n",
       "      <th>exng</th>\n",
       "      <th>oldpeak</th>\n",
       "      <th>slp</th>\n",
       "      <th>caa</th>\n",
       "      <th>thall</th>\n",
       "      <th>output</th>\n",
       "    </tr>\n",
       "  </thead>\n",
       "  <tbody>\n",
       "    <tr>\n",
       "      <th>0</th>\n",
       "      <td>63</td>\n",
       "      <td>1</td>\n",
       "      <td>3</td>\n",
       "      <td>145</td>\n",
       "      <td>233</td>\n",
       "      <td>1</td>\n",
       "      <td>0</td>\n",
       "      <td>150</td>\n",
       "      <td>0</td>\n",
       "      <td>2.3</td>\n",
       "      <td>0</td>\n",
       "      <td>0</td>\n",
       "      <td>1</td>\n",
       "      <td>1</td>\n",
       "    </tr>\n",
       "    <tr>\n",
       "      <th>1</th>\n",
       "      <td>37</td>\n",
       "      <td>1</td>\n",
       "      <td>2</td>\n",
       "      <td>130</td>\n",
       "      <td>250</td>\n",
       "      <td>0</td>\n",
       "      <td>1</td>\n",
       "      <td>187</td>\n",
       "      <td>0</td>\n",
       "      <td>3.5</td>\n",
       "      <td>0</td>\n",
       "      <td>0</td>\n",
       "      <td>2</td>\n",
       "      <td>1</td>\n",
       "    </tr>\n",
       "    <tr>\n",
       "      <th>2</th>\n",
       "      <td>41</td>\n",
       "      <td>0</td>\n",
       "      <td>1</td>\n",
       "      <td>130</td>\n",
       "      <td>204</td>\n",
       "      <td>0</td>\n",
       "      <td>0</td>\n",
       "      <td>172</td>\n",
       "      <td>0</td>\n",
       "      <td>1.4</td>\n",
       "      <td>2</td>\n",
       "      <td>0</td>\n",
       "      <td>2</td>\n",
       "      <td>1</td>\n",
       "    </tr>\n",
       "    <tr>\n",
       "      <th>3</th>\n",
       "      <td>56</td>\n",
       "      <td>1</td>\n",
       "      <td>1</td>\n",
       "      <td>120</td>\n",
       "      <td>236</td>\n",
       "      <td>0</td>\n",
       "      <td>1</td>\n",
       "      <td>178</td>\n",
       "      <td>0</td>\n",
       "      <td>0.8</td>\n",
       "      <td>2</td>\n",
       "      <td>0</td>\n",
       "      <td>2</td>\n",
       "      <td>1</td>\n",
       "    </tr>\n",
       "    <tr>\n",
       "      <th>4</th>\n",
       "      <td>57</td>\n",
       "      <td>0</td>\n",
       "      <td>0</td>\n",
       "      <td>120</td>\n",
       "      <td>354</td>\n",
       "      <td>0</td>\n",
       "      <td>1</td>\n",
       "      <td>163</td>\n",
       "      <td>1</td>\n",
       "      <td>0.6</td>\n",
       "      <td>2</td>\n",
       "      <td>0</td>\n",
       "      <td>2</td>\n",
       "      <td>1</td>\n",
       "    </tr>\n",
       "  </tbody>\n",
       "</table>\n",
       "</div>"
      ],
      "text/plain": [
       "   age  sex  cp  trtbps  chol  fbs  restecg  thalachh  exng  oldpeak  slp  \\\n",
       "0   63    1   3     145   233    1        0       150     0      2.3    0   \n",
       "1   37    1   2     130   250    0        1       187     0      3.5    0   \n",
       "2   41    0   1     130   204    0        0       172     0      1.4    2   \n",
       "3   56    1   1     120   236    0        1       178     0      0.8    2   \n",
       "4   57    0   0     120   354    0        1       163     1      0.6    2   \n",
       "\n",
       "   caa  thall  output  \n",
       "0    0      1       1  \n",
       "1    0      2       1  \n",
       "2    0      2       1  \n",
       "3    0      2       1  \n",
       "4    0      2       1  "
      ]
     },
     "execution_count": 2,
     "metadata": {},
     "output_type": "execute_result"
    }
   ],
   "source": [
    "#Read the data\n",
    "\n",
    "df = pd.read_csv(\"heart.csv\")\n",
    "df.head()"
   ]
  },
  {
   "cell_type": "code",
   "execution_count": 3,
   "metadata": {},
   "outputs": [
    {
     "data": {
      "text/plain": [
       "(303, 14)"
      ]
     },
     "execution_count": 3,
     "metadata": {},
     "output_type": "execute_result"
    }
   ],
   "source": [
    "df.shape"
   ]
  },
  {
   "cell_type": "code",
   "execution_count": 4,
   "metadata": {},
   "outputs": [
    {
     "name": "stdout",
     "output_type": "stream",
     "text": [
      "<class 'pandas.core.frame.DataFrame'>\n",
      "RangeIndex: 303 entries, 0 to 302\n",
      "Data columns (total 14 columns):\n",
      " #   Column    Non-Null Count  Dtype  \n",
      "---  ------    --------------  -----  \n",
      " 0   age       303 non-null    int64  \n",
      " 1   sex       303 non-null    int64  \n",
      " 2   cp        303 non-null    int64  \n",
      " 3   trtbps    303 non-null    int64  \n",
      " 4   chol      303 non-null    int64  \n",
      " 5   fbs       303 non-null    int64  \n",
      " 6   restecg   303 non-null    int64  \n",
      " 7   thalachh  303 non-null    int64  \n",
      " 8   exng      303 non-null    int64  \n",
      " 9   oldpeak   303 non-null    float64\n",
      " 10  slp       303 non-null    int64  \n",
      " 11  caa       303 non-null    int64  \n",
      " 12  thall     303 non-null    int64  \n",
      " 13  output    303 non-null    int64  \n",
      "dtypes: float64(1), int64(13)\n",
      "memory usage: 33.3 KB\n"
     ]
    }
   ],
   "source": [
    "df.info()"
   ]
  },
  {
   "cell_type": "code",
   "execution_count": 5,
   "metadata": {},
   "outputs": [
    {
     "data": {
      "text/html": [
       "<div>\n",
       "<style scoped>\n",
       "    .dataframe tbody tr th:only-of-type {\n",
       "        vertical-align: middle;\n",
       "    }\n",
       "\n",
       "    .dataframe tbody tr th {\n",
       "        vertical-align: top;\n",
       "    }\n",
       "\n",
       "    .dataframe thead th {\n",
       "        text-align: right;\n",
       "    }\n",
       "</style>\n",
       "<table border=\"1\" class=\"dataframe\">\n",
       "  <thead>\n",
       "    <tr style=\"text-align: right;\">\n",
       "      <th></th>\n",
       "      <th>count</th>\n",
       "      <th>mean</th>\n",
       "      <th>std</th>\n",
       "      <th>min</th>\n",
       "      <th>25%</th>\n",
       "      <th>50%</th>\n",
       "      <th>75%</th>\n",
       "      <th>max</th>\n",
       "    </tr>\n",
       "  </thead>\n",
       "  <tbody>\n",
       "    <tr>\n",
       "      <th>age</th>\n",
       "      <td>303.0</td>\n",
       "      <td>54.366337</td>\n",
       "      <td>9.082101</td>\n",
       "      <td>29.0</td>\n",
       "      <td>47.5</td>\n",
       "      <td>55.0</td>\n",
       "      <td>61.0</td>\n",
       "      <td>77.0</td>\n",
       "    </tr>\n",
       "    <tr>\n",
       "      <th>sex</th>\n",
       "      <td>303.0</td>\n",
       "      <td>0.683168</td>\n",
       "      <td>0.466011</td>\n",
       "      <td>0.0</td>\n",
       "      <td>0.0</td>\n",
       "      <td>1.0</td>\n",
       "      <td>1.0</td>\n",
       "      <td>1.0</td>\n",
       "    </tr>\n",
       "    <tr>\n",
       "      <th>cp</th>\n",
       "      <td>303.0</td>\n",
       "      <td>0.966997</td>\n",
       "      <td>1.032052</td>\n",
       "      <td>0.0</td>\n",
       "      <td>0.0</td>\n",
       "      <td>1.0</td>\n",
       "      <td>2.0</td>\n",
       "      <td>3.0</td>\n",
       "    </tr>\n",
       "    <tr>\n",
       "      <th>trtbps</th>\n",
       "      <td>303.0</td>\n",
       "      <td>131.623762</td>\n",
       "      <td>17.538143</td>\n",
       "      <td>94.0</td>\n",
       "      <td>120.0</td>\n",
       "      <td>130.0</td>\n",
       "      <td>140.0</td>\n",
       "      <td>200.0</td>\n",
       "    </tr>\n",
       "    <tr>\n",
       "      <th>chol</th>\n",
       "      <td>303.0</td>\n",
       "      <td>246.264026</td>\n",
       "      <td>51.830751</td>\n",
       "      <td>126.0</td>\n",
       "      <td>211.0</td>\n",
       "      <td>240.0</td>\n",
       "      <td>274.5</td>\n",
       "      <td>564.0</td>\n",
       "    </tr>\n",
       "    <tr>\n",
       "      <th>fbs</th>\n",
       "      <td>303.0</td>\n",
       "      <td>0.148515</td>\n",
       "      <td>0.356198</td>\n",
       "      <td>0.0</td>\n",
       "      <td>0.0</td>\n",
       "      <td>0.0</td>\n",
       "      <td>0.0</td>\n",
       "      <td>1.0</td>\n",
       "    </tr>\n",
       "    <tr>\n",
       "      <th>restecg</th>\n",
       "      <td>303.0</td>\n",
       "      <td>0.528053</td>\n",
       "      <td>0.525860</td>\n",
       "      <td>0.0</td>\n",
       "      <td>0.0</td>\n",
       "      <td>1.0</td>\n",
       "      <td>1.0</td>\n",
       "      <td>2.0</td>\n",
       "    </tr>\n",
       "    <tr>\n",
       "      <th>thalachh</th>\n",
       "      <td>303.0</td>\n",
       "      <td>149.646865</td>\n",
       "      <td>22.905161</td>\n",
       "      <td>71.0</td>\n",
       "      <td>133.5</td>\n",
       "      <td>153.0</td>\n",
       "      <td>166.0</td>\n",
       "      <td>202.0</td>\n",
       "    </tr>\n",
       "    <tr>\n",
       "      <th>exng</th>\n",
       "      <td>303.0</td>\n",
       "      <td>0.326733</td>\n",
       "      <td>0.469794</td>\n",
       "      <td>0.0</td>\n",
       "      <td>0.0</td>\n",
       "      <td>0.0</td>\n",
       "      <td>1.0</td>\n",
       "      <td>1.0</td>\n",
       "    </tr>\n",
       "    <tr>\n",
       "      <th>oldpeak</th>\n",
       "      <td>303.0</td>\n",
       "      <td>1.039604</td>\n",
       "      <td>1.161075</td>\n",
       "      <td>0.0</td>\n",
       "      <td>0.0</td>\n",
       "      <td>0.8</td>\n",
       "      <td>1.6</td>\n",
       "      <td>6.2</td>\n",
       "    </tr>\n",
       "    <tr>\n",
       "      <th>slp</th>\n",
       "      <td>303.0</td>\n",
       "      <td>1.399340</td>\n",
       "      <td>0.616226</td>\n",
       "      <td>0.0</td>\n",
       "      <td>1.0</td>\n",
       "      <td>1.0</td>\n",
       "      <td>2.0</td>\n",
       "      <td>2.0</td>\n",
       "    </tr>\n",
       "    <tr>\n",
       "      <th>caa</th>\n",
       "      <td>303.0</td>\n",
       "      <td>0.729373</td>\n",
       "      <td>1.022606</td>\n",
       "      <td>0.0</td>\n",
       "      <td>0.0</td>\n",
       "      <td>0.0</td>\n",
       "      <td>1.0</td>\n",
       "      <td>4.0</td>\n",
       "    </tr>\n",
       "    <tr>\n",
       "      <th>thall</th>\n",
       "      <td>303.0</td>\n",
       "      <td>2.313531</td>\n",
       "      <td>0.612277</td>\n",
       "      <td>0.0</td>\n",
       "      <td>2.0</td>\n",
       "      <td>2.0</td>\n",
       "      <td>3.0</td>\n",
       "      <td>3.0</td>\n",
       "    </tr>\n",
       "    <tr>\n",
       "      <th>output</th>\n",
       "      <td>303.0</td>\n",
       "      <td>0.544554</td>\n",
       "      <td>0.498835</td>\n",
       "      <td>0.0</td>\n",
       "      <td>0.0</td>\n",
       "      <td>1.0</td>\n",
       "      <td>1.0</td>\n",
       "      <td>1.0</td>\n",
       "    </tr>\n",
       "  </tbody>\n",
       "</table>\n",
       "</div>"
      ],
      "text/plain": [
       "          count        mean        std    min    25%    50%    75%    max\n",
       "age       303.0   54.366337   9.082101   29.0   47.5   55.0   61.0   77.0\n",
       "sex       303.0    0.683168   0.466011    0.0    0.0    1.0    1.0    1.0\n",
       "cp        303.0    0.966997   1.032052    0.0    0.0    1.0    2.0    3.0\n",
       "trtbps    303.0  131.623762  17.538143   94.0  120.0  130.0  140.0  200.0\n",
       "chol      303.0  246.264026  51.830751  126.0  211.0  240.0  274.5  564.0\n",
       "fbs       303.0    0.148515   0.356198    0.0    0.0    0.0    0.0    1.0\n",
       "restecg   303.0    0.528053   0.525860    0.0    0.0    1.0    1.0    2.0\n",
       "thalachh  303.0  149.646865  22.905161   71.0  133.5  153.0  166.0  202.0\n",
       "exng      303.0    0.326733   0.469794    0.0    0.0    0.0    1.0    1.0\n",
       "oldpeak   303.0    1.039604   1.161075    0.0    0.0    0.8    1.6    6.2\n",
       "slp       303.0    1.399340   0.616226    0.0    1.0    1.0    2.0    2.0\n",
       "caa       303.0    0.729373   1.022606    0.0    0.0    0.0    1.0    4.0\n",
       "thall     303.0    2.313531   0.612277    0.0    2.0    2.0    3.0    3.0\n",
       "output    303.0    0.544554   0.498835    0.0    0.0    1.0    1.0    1.0"
      ]
     },
     "execution_count": 5,
     "metadata": {},
     "output_type": "execute_result"
    }
   ],
   "source": [
    "df.describe().transpose()"
   ]
  },
  {
   "cell_type": "code",
   "execution_count": 6,
   "metadata": {},
   "outputs": [
    {
     "data": {
      "text/plain": [
       "age         0\n",
       "sex         0\n",
       "cp          0\n",
       "trtbps      0\n",
       "chol        0\n",
       "fbs         0\n",
       "restecg     0\n",
       "thalachh    0\n",
       "exng        0\n",
       "oldpeak     0\n",
       "slp         0\n",
       "caa         0\n",
       "thall       0\n",
       "output      0\n",
       "dtype: int64"
      ]
     },
     "execution_count": 6,
     "metadata": {},
     "output_type": "execute_result"
    }
   ],
   "source": [
    "#Check Missing values check\n",
    "\n",
    "df.isna().sum()"
   ]
  },
  {
   "cell_type": "code",
   "execution_count": 7,
   "metadata": {},
   "outputs": [
    {
     "data": {
      "text/plain": [
       "1"
      ]
     },
     "execution_count": 7,
     "metadata": {},
     "output_type": "execute_result"
    }
   ],
   "source": [
    "#Check no of duplicated rows\n",
    "\n",
    "df.duplicated().sum()"
   ]
  },
  {
   "cell_type": "code",
   "execution_count": 8,
   "metadata": {
    "jupyter": {
     "source_hidden": true
    },
    "tags": []
   },
   "outputs": [
    {
     "data": {
      "image/png": "[encoded data removed]",
      "text/plain": [
       "<Figure size 1296x504 with 2 Axes>"
      ]
     },
     "metadata": {},
     "output_type": "display_data"
    }
   ],
   "source": [
    "import matplotlib.pyplot as plt\n",
    "import seaborn as sns\n",
    "\n",
    "import warnings\n",
    "warnings.filterwarnings(\"ignore\")\n",
    "\n",
    "fig = plt.figure(figsize=(18,7))\n",
    "gs = fig.add_gridspec(1,2)\n",
    "gs.update(wspace=0.3, hspace=0.15)\n",
    "ax0 = fig.add_subplot(gs[0,0])\n",
    "ax1 = fig.add_subplot(gs[0,1])\n",
    "\n",
    "#background_color = \"#ffe6e6\"\n",
    "background_color = \"#ffe6e6\"\n",
    "color_palette = [\"#800000\",\"#8000ff\",\"#6aac90\",\"#5833ff\",\"#da8829\"]\n",
    "fig.patch.set_facecolor(background_color) \n",
    "ax0.set_facecolor(background_color) \n",
    "ax1.set_facecolor(background_color) \n",
    "\n",
    "# Title of the plot\n",
    "ax0.text(0.5,0.5,\"Count of the target\\n___________\",\n",
    "        horizontalalignment = 'center',\n",
    "        verticalalignment = 'center',\n",
    "        fontsize = 20,\n",
    "        fontweight='bold',\n",
    "        fontfamily='serif',\n",
    "        color='#000000')\n",
    "\n",
    "ax0.set_xticklabels([])\n",
    "ax0.set_yticklabels([])\n",
    "ax0.tick_params(left=False, bottom=False)\n",
    "\n",
    "# Target Count\n",
    "\n",
    "ax1.grid(color='#000000', linestyle=':', axis='y', zorder=0,  dashes=(1,5))\n",
    "sns.countplot(ax=ax1, data=df, x = 'output',palette = color_palette)\n",
    "ax1.set_xlabel(\"\")\n",
    "ax1.set_ylabel(\"\")\n",
    "ax1.set_xticklabels([\"Low chance(0)\",\"High chance(1)\"])\n",
    "\n",
    "ax0.spines[\"top\"].set_visible(False)\n",
    "ax0.spines[\"left\"].set_visible(False)\n",
    "ax0.spines[\"bottom\"].set_visible(False)\n",
    "ax0.spines[\"right\"].set_visible(False)\n",
    "ax1.spines[\"top\"].set_visible(False)\n",
    "ax1.spines[\"left\"].set_visible(False)\n",
    "ax1.spines[\"right\"].set_visible(False)"
   ]
  },
  {
   "cell_type": "code",
   "execution_count": 9,
   "metadata": {
    "jupyter": {
     "source_hidden": true
    },
    "tags": []
   },
   "outputs": [
    {
     "data": {
      "image/png": "[encoded data removed]",
      "text/plain": [
       "<Figure size 1296x1080 with 9 Axes>"
      ]
     },
     "metadata": {},
     "output_type": "display_data"
    }
   ],
   "source": [
    "#plot histogram for each attribute\n",
    "\n",
    "fig = plt.figure(figsize=(18,15))\n",
    "gs = fig.add_gridspec(3,3)\n",
    "gs.update(wspace=0.5, hspace=0.25)\n",
    "ax0 = fig.add_subplot(gs[0,0])\n",
    "ax1 = fig.add_subplot(gs[0,1])\n",
    "ax2 = fig.add_subplot(gs[0,2])\n",
    "ax3 = fig.add_subplot(gs[1,0])\n",
    "ax4 = fig.add_subplot(gs[1,1])\n",
    "ax5 = fig.add_subplot(gs[1,2])\n",
    "ax6 = fig.add_subplot(gs[2,0])\n",
    "ax7 = fig.add_subplot(gs[2,1])\n",
    "ax8 = fig.add_subplot(gs[2,2])\n",
    "\n",
    "background_color = \"#ffe6e6\"\n",
    "color_palette = [\"#800000\",\"#8000ff\",\"#6aac90\",\"#5833ff\",\"#da8829\"]\n",
    "fig.patch.set_facecolor(background_color) \n",
    "ax0.set_facecolor(background_color) \n",
    "ax1.set_facecolor(background_color) \n",
    "ax2.set_facecolor(background_color) \n",
    "ax3.set_facecolor(background_color) \n",
    "ax4.set_facecolor(background_color) \n",
    "ax5.set_facecolor(background_color) \n",
    "ax6.set_facecolor(background_color) \n",
    "ax7.set_facecolor(background_color) \n",
    "ax8.set_facecolor(background_color) \n",
    "\n",
    "# Title of the plot\n",
    "ax0.spines[\"bottom\"].set_visible(False)\n",
    "ax0.spines[\"left\"].set_visible(False)\n",
    "ax0.spines[\"top\"].set_visible(False)\n",
    "ax0.spines[\"right\"].set_visible(False)\n",
    "ax0.tick_params(left=False, bottom=False)\n",
    "ax0.set_xticklabels([])\n",
    "ax0.set_yticklabels([])\n",
    "ax0.text(0.5,0.5,\n",
    "         'Count plot for various\\n categorical features\\n_________________',\n",
    "         horizontalalignment='center',\n",
    "         verticalalignment='center',\n",
    "         fontsize=18, fontweight='bold',\n",
    "         fontfamily='serif',\n",
    "         color=\"#000000\")\n",
    "\n",
    "# Sex count\n",
    "ax1.text(0.3, 220, 'Sex', fontsize=14, fontweight='bold', fontfamily='serif', color=\"#000000\")\n",
    "ax1.grid(color='#000000', linestyle=':', axis='y', zorder=0,  dashes=(1,5))\n",
    "sns.countplot(ax=ax1,data=df,x='sex',palette=color_palette)\n",
    "ax1.set_xlabel(\"\")\n",
    "ax1.set_ylabel(\"\")\n",
    "\n",
    "# Exng count\n",
    "ax2.text(0.3, 220, 'Exng', fontsize=14, fontweight='bold', fontfamily='serif', color=\"#000000\")\n",
    "ax2.grid(color='#000000', linestyle=':', axis='y', zorder=0,  dashes=(1,5))\n",
    "sns.countplot(ax=ax2,data=df,x='exng',palette=color_palette)\n",
    "ax2.set_xlabel(\"\")\n",
    "ax2.set_ylabel(\"\")\n",
    "\n",
    "# Caa count\n",
    "ax3.text(1.5, 200, 'Caa', fontsize=14, fontweight='bold', fontfamily='serif', color=\"#000000\")\n",
    "ax3.grid(color='#000000', linestyle=':', axis='y', zorder=0,  dashes=(1,5))\n",
    "sns.countplot(ax=ax3,data=df,x='caa',palette=color_palette)\n",
    "ax3.set_xlabel(\"\")\n",
    "ax3.set_ylabel(\"\")\n",
    "\n",
    "# Cp count\n",
    "ax4.text(1.5, 162, 'Cp', fontsize=14, fontweight='bold', fontfamily='serif', color=\"#000000\")\n",
    "ax4.grid(color='#000000', linestyle=':', axis='y', zorder=0,  dashes=(1,5))\n",
    "sns.countplot(ax=ax4,data=df,x='cp',palette=color_palette)\n",
    "ax4.set_xlabel(\"\")\n",
    "ax4.set_ylabel(\"\")\n",
    "\n",
    "# Fbs count\n",
    "ax5.text(0.5, 290, 'Fbs', fontsize=14, fontweight='bold', fontfamily='serif', color=\"#000000\")\n",
    "ax5.grid(color='#000000', linestyle=':', axis='y', zorder=0,  dashes=(1,5))\n",
    "sns.countplot(ax=ax5,data=df,x='fbs',palette=color_palette)\n",
    "ax5.set_xlabel(\"\")\n",
    "ax5.set_ylabel(\"\")\n",
    "\n",
    "# Restecg count\n",
    "ax6.text(0.75, 165, 'Restecg', fontsize=14, fontweight='bold', fontfamily='serif', color=\"#000000\")\n",
    "ax6.grid(color='#000000', linestyle=':', axis='y', zorder=0,  dashes=(1,5))\n",
    "sns.countplot(ax=ax6,data=df,x='restecg',palette=color_palette)\n",
    "ax6.set_xlabel(\"\")\n",
    "ax6.set_ylabel(\"\")\n",
    "\n",
    "# Slp count\n",
    "ax7.text(0.85, 155, 'Slp', fontsize=14, fontweight='bold', fontfamily='serif', color=\"#000000\")\n",
    "ax7.grid(color='#000000', linestyle=':', axis='y', zorder=0,  dashes=(1,5))\n",
    "sns.countplot(ax=ax7,data=df,x='slp',palette=color_palette)\n",
    "ax7.set_xlabel(\"\")\n",
    "ax7.set_ylabel(\"\")\n",
    "\n",
    "# Thall count\n",
    "ax8.text(1.2, 180, 'Thall', fontsize=14, fontweight='bold', fontfamily='serif', color=\"#000000\")\n",
    "ax8.grid(color='#000000', linestyle=':', axis='y', zorder=0,  dashes=(1,5))\n",
    "sns.countplot(ax=ax8,data=df,x='thall',palette=color_palette)\n",
    "ax8.set_xlabel(\"\")\n",
    "ax8.set_ylabel(\"\")\n",
    "\n",
    "for s in [\"top\",\"right\",\"left\"]:\n",
    "    ax1.spines[s].set_visible(False)\n",
    "    ax2.spines[s].set_visible(False)\n",
    "    ax3.spines[s].set_visible(False)\n",
    "    ax4.spines[s].set_visible(False)\n",
    "    ax5.spines[s].set_visible(False)\n",
    "    ax6.spines[s].set_visible(False)\n",
    "    ax7.spines[s].set_visible(False)\n",
    "    ax8.spines[s].set_visible(False)"
   ]
  },
  {
   "cell_type": "code",
   "execution_count": 10,
   "metadata": {},
   "outputs": [
    {
     "data": {
      "image/png": "[encoded data removed]",
      "text/plain": [
       "<Figure size 720x432 with 1 Axes>"
      ]
     },
     "metadata": {
      "needs_background": "light"
     },
     "output_type": "display_data"
    }
   ],
   "source": [
    "# Effect of the age on heart attack chance\n",
    "\n",
    "plt.figure(figsize=(10,6))\n",
    "sns.histplot(data = df, x = 'age', hue = 'output')\n",
    "plt.title(\"The age effect on HEART-ATTACK\")\n",
    "plt.show()"
   ]
  },
  {
   "cell_type": "code",
   "execution_count": 11,
   "metadata": {},
   "outputs": [
    {
     "name": "stdout",
     "output_type": "stream",
     "text": [
      "1    207\n",
      "0     96\n",
      "Name: sex, dtype: int64\n"
     ]
    },
    {
     "data": {
      "image/png": "[encoded data removed]",
      "text/plain": [
       "<Figure size 432x288 with 1 Axes>"
      ]
     },
     "metadata": {
      "needs_background": "light"
     },
     "output_type": "display_data"
    }
   ],
   "source": [
    "x=(df.sex.value_counts())\n",
    "print(x)\n",
    "p = sns.countplot(data=df, x=\"sex\")\n",
    "plt.show()"
   ]
  },
  {
   "cell_type": "code",
   "execution_count": 12,
   "metadata": {},
   "outputs": [
    {
     "data": {
      "text/html": [
       "<div>\n",
       "<style scoped>\n",
       "    .dataframe tbody tr th:only-of-type {\n",
       "        vertical-align: middle;\n",
       "    }\n",
       "\n",
       "    .dataframe tbody tr th {\n",
       "        vertical-align: top;\n",
       "    }\n",
       "\n",
       "    .dataframe thead th {\n",
       "        text-align: right;\n",
       "    }\n",
       "</style>\n",
       "<table border=\"1\" class=\"dataframe\">\n",
       "  <thead>\n",
       "    <tr style=\"text-align: right;\">\n",
       "      <th></th>\n",
       "      <th>unique count</th>\n",
       "    </tr>\n",
       "  </thead>\n",
       "  <tbody>\n",
       "    <tr>\n",
       "      <th>age</th>\n",
       "      <td>41</td>\n",
       "    </tr>\n",
       "    <tr>\n",
       "      <th>sex</th>\n",
       "      <td>2</td>\n",
       "    </tr>\n",
       "    <tr>\n",
       "      <th>cp</th>\n",
       "      <td>4</td>\n",
       "    </tr>\n",
       "    <tr>\n",
       "      <th>trtbps</th>\n",
       "      <td>49</td>\n",
       "    </tr>\n",
       "    <tr>\n",
       "      <th>chol</th>\n",
       "      <td>152</td>\n",
       "    </tr>\n",
       "    <tr>\n",
       "      <th>fbs</th>\n",
       "      <td>2</td>\n",
       "    </tr>\n",
       "    <tr>\n",
       "      <th>restecg</th>\n",
       "      <td>3</td>\n",
       "    </tr>\n",
       "    <tr>\n",
       "      <th>thalachh</th>\n",
       "      <td>91</td>\n",
       "    </tr>\n",
       "    <tr>\n",
       "      <th>exng</th>\n",
       "      <td>2</td>\n",
       "    </tr>\n",
       "    <tr>\n",
       "      <th>oldpeak</th>\n",
       "      <td>40</td>\n",
       "    </tr>\n",
       "    <tr>\n",
       "      <th>slp</th>\n",
       "      <td>3</td>\n",
       "    </tr>\n",
       "    <tr>\n",
       "      <th>caa</th>\n",
       "      <td>5</td>\n",
       "    </tr>\n",
       "    <tr>\n",
       "      <th>thall</th>\n",
       "      <td>4</td>\n",
       "    </tr>\n",
       "    <tr>\n",
       "      <th>output</th>\n",
       "      <td>2</td>\n",
       "    </tr>\n",
       "  </tbody>\n",
       "</table>\n",
       "</div>"
      ],
      "text/plain": [
       "          unique count\n",
       "age                 41\n",
       "sex                  2\n",
       "cp                   4\n",
       "trtbps              49\n",
       "chol               152\n",
       "fbs                  2\n",
       "restecg              3\n",
       "thalachh            91\n",
       "exng                 2\n",
       "oldpeak             40\n",
       "slp                  3\n",
       "caa                  5\n",
       "thall                4\n",
       "output               2"
      ]
     },
     "execution_count": 12,
     "metadata": {},
     "output_type": "execute_result"
    }
   ],
   "source": [
    "#Check the number of uniqe value in each attribute\n",
    "\n",
    "dict = {}\n",
    "for i in list(df.columns):\n",
    "    dict[i] = df[i].value_counts().shape[0]\n",
    "\n",
    "pd.DataFrame(dict,index=[\"unique count\"]).transpose()"
   ]
  },
  {
   "cell_type": "code",
   "execution_count": 13,
   "metadata": {},
   "outputs": [
    {
     "data": {
      "text/plain": [
       "output      1.000000\n",
       "cp          0.433798\n",
       "thalachh    0.421741\n",
       "slp         0.345877\n",
       "restecg     0.137230\n",
       "fbs        -0.028046\n",
       "chol       -0.085239\n",
       "trtbps     -0.144931\n",
       "age        -0.225439\n",
       "sex        -0.280937\n",
       "thall      -0.344029\n",
       "caa        -0.391724\n",
       "oldpeak    -0.430696\n",
       "exng       -0.436757\n",
       "Name: output, dtype: float64"
      ]
     },
     "execution_count": 13,
     "metadata": {},
     "output_type": "execute_result"
    }
   ],
   "source": [
    "#Look for Correlations\n",
    "\n",
    "corr_matrix = df.corr()\n",
    "corr_matrix[\"output\"].sort_values(ascending=\n",
    "False)"
   ]
  },
  {
   "cell_type": "code",
   "execution_count": 14,
   "metadata": {
    "jupyter": {
     "source_hidden": true
    },
    "tags": []
   },
   "outputs": [
    {
     "data": {
      "text/plain": [
       "<Figure size 720x720 with 0 Axes>"
      ]
     },
     "metadata": {},
     "output_type": "display_data"
    },
    {
     "data": {
      "image/png": "[encoded data removed]",
      "text/plain": [
       "<Figure size 781.625x720 with 1 Axes>"
      ]
     },
     "metadata": {
      "needs_background": "light"
     },
     "output_type": "display_data"
    }
   ],
   "source": [
    "#Heat map to display Correlations\n",
    "\n",
    "fig = plt.figure(figsize=(10,10))\n",
    "corr_mat = df.corr().stack().reset_index(name=\"correlation\")\n",
    "g = sns.relplot(\n",
    "    data=corr_mat,\n",
    "    x=\"level_0\", y=\"level_1\", hue=\"correlation\", size=\"correlation\",\n",
    "    palette=\"YlGnBu\", hue_norm=(-1, 1), edgecolor=\".7\",\n",
    "    height=10, sizes=(50, 250), size_norm=(-.3, .9),\n",
    ")\n",
    "g.set(xlabel=\"features on X\", ylabel=\"featurs on Y\", aspect=\"equal\")\n",
    "g.fig.suptitle('Scatterplot heatmap',fontsize=22, fontweight='bold', fontfamily='serif', color=\"#000000\")\n",
    "g.despine(left=True, bottom=True)\n",
    "g.ax.margins(.02)\n",
    "for label in g.ax.get_xticklabels():\n",
    "    label.set_rotation(90)\n",
    "for artist in g.legend.legendHandles:\n",
    "    artist.set_edgecolor(\".7\")\n",
    "plt.show()"
   ]
  },
  {
   "cell_type": "code",
   "execution_count": 15,
   "metadata": {},
   "outputs": [
    {
     "data": {
      "image/png": "[encoded data removed]",
      "text/plain": [
       "<Figure size 432x288 with 1 Axes>"
      ]
     },
     "metadata": {
      "needs_background": "light"
     },
     "output_type": "display_data"
    }
   ],
   "source": [
    "df.plot(kind=\"scatter\", x=\"thalachh\",\n",
    "y=\"output\",\n",
    " alpha=0.3, grid=True)\n",
    "plt.show()"
   ]
  },
  {
   "cell_type": "code",
   "execution_count": 16,
   "metadata": {},
   "outputs": [
    {
     "data": {
      "image/png": "[encoded data removed]",
      "text/plain": [
       "<Figure size 432x288 with 1 Axes>"
      ]
     },
     "metadata": {
      "needs_background": "light"
     },
     "output_type": "display_data"
    }
   ],
   "source": [
    "df.plot(kind=\"scatter\", x=\"oldpeak\",\n",
    "y=\"output\",\n",
    " alpha=0.3, grid=True)\n",
    "plt.show()"
   ]
  },
  {
   "cell_type": "markdown",
   "metadata": {},
   "source": [
    "****"
   ]
  },
  {
   "cell_type": "markdown",
   "metadata": {
    "tags": []
   },
   "source": [
    "# <h1>Data Preprocessing</h1>"
   ]
  },
  {
   "cell_type": "markdown",
   "metadata": {
    "tags": []
   },
   "source": [
    "## <h3>Drop duplicated rows</h3>"
   ]
  },
  {
   "cell_type": "code",
   "execution_count": 17,
   "metadata": {},
   "outputs": [
    {
     "data": {
      "text/plain": [
       "(302, 14)"
      ]
     },
     "execution_count": 17,
     "metadata": {},
     "output_type": "execute_result"
    }
   ],
   "source": [
    "df.drop_duplicates(keep='first',inplace=True)\n",
    "df.shape"
   ]
  },
  {
   "cell_type": "code",
   "execution_count": 18,
   "metadata": {},
   "outputs": [],
   "source": [
    "df = df.drop(['oldpeak'], axis=1)"
   ]
  },
  {
   "cell_type": "markdown",
   "metadata": {
    "tags": []
   },
   "source": [
    "## <h3>Faeture scaling</h3>"
   ]
  },
  {
   "cell_type": "code",
   "execution_count": 19,
   "metadata": {},
   "outputs": [],
   "source": [
    "#Make copy of the data\n",
    "\n",
    "Data = df\n",
    "\n",
    "#Assign attributes and target\n",
    "X = Data.drop(['output'], axis=1)\n",
    "y = Data['output']"
   ]
  },
  {
   "cell_type": "code",
   "execution_count": 20,
   "metadata": {},
   "outputs": [],
   "source": [
    "#Set numerical cols for transformation\n",
    "\n",
    "num_col = ['age','trtbps','chol','thalachh']#,'oldpeak']"
   ]
  },
  {
   "cell_type": "code",
   "execution_count": 21,
   "metadata": {},
   "outputs": [],
   "source": [
    "#Rescale the data by use StandardScaler\n",
    "\n",
    "from sklearn.preprocessing import StandardScaler\n",
    "scaler = StandardScaler()\n",
    "X[num_col] = scaler.fit_transform(X[num_col])\n",
    "#X = scaler.fit_transform(X)"
   ]
  },
  {
   "cell_type": "markdown",
   "metadata": {
    "tags": []
   },
   "source": [
    "## <h2>Splitting the data</h2>"
   ]
  },
  {
   "cell_type": "code",
   "execution_count": 22,
   "metadata": {},
   "outputs": [
    {
     "name": "stdout",
     "output_type": "stream",
     "text": [
      "The shape of X_train is       (241, 12)\n",
      "The shape of X_test is        (61, 12)\n",
      "The shape of y_train is       (241,)\n",
      "The shape of y_test is        (61,)\n"
     ]
    }
   ],
   "source": [
    "from sklearn.model_selection import train_test_split\n",
    "#Train and test split\n",
    "from sklearn.model_selection import train_test_split\n",
    "X_train, X_test, y_train, y_test = train_test_split(X,y, test_size = 0.2, random_state = 42)\n",
    "print(\"The shape of X_train is      \", X_train.shape)\n",
    "print(\"The shape of X_test is       \",X_test.shape)\n",
    "print(\"The shape of y_train is      \",y_train.shape)\n",
    "print(\"The shape of y_test is       \",y_test.shape)"
   ]
  },
  {
   "cell_type": "markdown",
   "metadata": {},
   "source": [
    "****"
   ]
  },
  {
   "cell_type": "markdown",
   "metadata": {
    "tags": []
   },
   "source": [
    "# <h1>Modeling</h1>"
   ]
  },
  {
   "cell_type": "code",
   "execution_count": 23,
   "metadata": {},
   "outputs": [],
   "source": [
    "# Models\n",
    "from sklearn.svm import SVC\n",
    "from sklearn.linear_model import LogisticRegression\n",
    "from sklearn.ensemble import RandomForestClassifier\n",
    "from sklearn.neighbors import KNeighborsClassifier\n",
    "from sklearn.ensemble import RandomForestClassifier\n",
    "\n",
    "\n",
    "# Metrics\n",
    "from sklearn.metrics import accuracy_score, classification_report, roc_curve\n",
    "from sklearn.metrics import  confusion_matrix\n",
    "from sklearn.metrics import f1_score\n",
    "from sklearn.metrics import precision_score, recall_score\n",
    "\n",
    "# Cross Validation\n",
    "from sklearn.model_selection import cross_val_score\n",
    "from sklearn.model_selection import GridSearchCV"
   ]
  },
  {
   "cell_type": "markdown",
   "metadata": {
    "tags": []
   },
   "source": [
    "## <h3>SVM</h3>"
   ]
  },
  {
   "cell_type": "code",
   "execution_count": 24,
   "metadata": {},
   "outputs": [
    {
     "name": "stdout",
     "output_type": "stream",
     "text": [
      "The test accuracy score of SVM is 80.33 %\n"
     ]
    }
   ],
   "source": [
    "SV_clf = SVC(kernel='linear', C=0.5, random_state=42).fit(X_train,y_train)\n",
    "\n",
    "# predicting the values\n",
    "y_pred = SV_clf.predict(X_test)\n",
    "\n",
    "# printing the test accuracy\n",
    "print(\"The test accuracy score of SVM is\", round(accuracy_score(y_test, y_pred)*100, 2), \"%\")"
   ]
  },
  {
   "cell_type": "code",
   "execution_count": 25,
   "metadata": {},
   "outputs": [
    {
     "name": "stdout",
     "output_type": "stream",
     "text": [
      "f1_score:  0.8064516129032259\n",
      "precision_score:  0.8333333333333334\n",
      "recall_score:  0.78125\n"
     ]
    }
   ],
   "source": [
    "#F1_score ,precision score and recall score\n",
    "\n",
    "print(\"f1_score: \", f1_score(y_test, y_pred))\n",
    "print(\"precision_score: \", precision_score(y_test, y_pred))\n",
    "print(\"recall_score: \", recall_score(y_test, y_pred))"
   ]
  },
  {
   "cell_type": "markdown",
   "metadata": {},
   "source": [
    "****"
   ]
  },
  {
   "cell_type": "markdown",
   "metadata": {
    "tags": []
   },
   "source": [
    "## <h3>LogisticRegression</h3>"
   ]
  },
  {
   "cell_type": "code",
   "execution_count": 26,
   "metadata": {},
   "outputs": [
    {
     "name": "stdout",
     "output_type": "stream",
     "text": [
      "The test accuracy score of Logistic is  80.33 %\n"
     ]
    }
   ],
   "source": [
    "#Logistic Regression model\n",
    "\n",
    "\n",
    "logreg = LogisticRegression(random_state=42)\n",
    "logreg.fit(X_train, y_train)\n",
    "\n",
    "# predicting the values\n",
    "y_pred_proba = logreg.predict_proba(X_test)\n",
    "\n",
    "# finding the predicted valued\n",
    "y_pred2 = np.argmax(y_pred_proba,axis=1)\n",
    "\n",
    "# printing the test accuracy\n",
    "print('The test accuracy score of Logistic is ', round(accuracy_score(y_test, y_pred2)*100, 2), \"%\")"
   ]
  },
  {
   "cell_type": "code",
   "execution_count": 27,
   "metadata": {},
   "outputs": [
    {
     "name": "stdout",
     "output_type": "stream",
     "text": [
      "f1_score:  0.8064516129032259\n",
      "precision_score:  0.8333333333333334\n",
      "recall_score:  0.78125\n"
     ]
    }
   ],
   "source": [
    "#F1_score ,precision score and recall score\n",
    "\n",
    "print(\"f1_score: \", f1_score(y_test, y_pred2))\n",
    "print(\"precision_score: \", precision_score(y_test, y_pred2))\n",
    "print(\"recall_score: \", recall_score(y_test, y_pred2))"
   ]
  },
  {
   "cell_type": "markdown",
   "metadata": {},
   "source": [
    "****"
   ]
  },
  {
   "cell_type": "markdown",
   "metadata": {
    "tags": []
   },
   "source": [
    "## <h3>K-NN</h3>"
   ]
  },
  {
   "cell_type": "code",
   "execution_count": 28,
   "metadata": {},
   "outputs": [
    {
     "name": "stdout",
     "output_type": "stream",
     "text": [
      "The test accuracy score of k-nn is  86.89 %\n"
     ]
    }
   ],
   "source": [
    "# K-nn model\n",
    "\n",
    "knn_clf = KNeighborsClassifier(n_neighbors=3)\n",
    "knn_clf.fit(X_train,y_train)\n",
    "\n",
    "# predicting the test values\n",
    "y_pred3 = knn_clf.predict(X_test)\n",
    "\n",
    "# printing the test accuracy\n",
    "print('The test accuracy score of k-nn is ', round(accuracy_score(y_test, y_pred3)*100, 2), \"%\")"
   ]
  },
  {
   "cell_type": "code",
   "execution_count": 29,
   "metadata": {},
   "outputs": [
    {
     "name": "stdout",
     "output_type": "stream",
     "text": [
      "The test accuracy score of k-nn is  86.89 %\n"
     ]
    }
   ],
   "source": [
    "from sklearn.pipeline import make_pipeline\n",
    "\n",
    "pipe = make_pipeline(KNeighborsClassifier(n_neighbors=3))\n",
    "pipe.fit(X_train,y_train)\n",
    "\n",
    "# predicting the test values\n",
    "y_pred_pip = pipe.predict(X_test)\n",
    "\n",
    "# printing the test accuracy\n",
    "print('The test accuracy score of k-nn is ', round(accuracy_score(y_test, y_pred3)*100, 2), \"%\")"
   ]
  },
  {
   "cell_type": "code",
   "execution_count": 30,
   "metadata": {},
   "outputs": [],
   "source": [
    "import pickle \n",
    "\n",
    "with open('trained_pipeline-1.0.pkl', 'wb') as f:\n",
    "    pickle.dump(pipe, f)"
   ]
  },
  {
   "cell_type": "code",
   "execution_count": 31,
   "metadata": {},
   "outputs": [
    {
     "name": "stdout",
     "output_type": "stream",
     "text": [
      "f1_score:  0.870967741935484\n",
      "precision_score:  0.9\n",
      "recall_score:  0.84375\n"
     ]
    }
   ],
   "source": [
    "#F1_score ,precision score and recall score\n",
    "\n",
    "print(\"f1_score: \", f1_score(y_test, y_pred3))\n",
    "print(\"precision_score: \", precision_score(y_test, y_pred3))\n",
    "print(\"recall_score: \", recall_score(y_test, y_pred3))"
   ]
  },
  {
   "cell_type": "markdown",
   "metadata": {
    "tags": []
   },
   "source": [
    "****"
   ]
  },
  {
   "cell_type": "markdown",
   "metadata": {
    "tags": []
   },
   "source": [
    "## <h3>RandomForest</h3>"
   ]
  },
  {
   "cell_type": "code",
   "execution_count": 32,
   "metadata": {},
   "outputs": [
    {
     "name": "stdout",
     "output_type": "stream",
     "text": [
      "The test accuracy score of Random Forest is  86.89 %\n"
     ]
    }
   ],
   "source": [
    "#Random Forest model\n",
    "\n",
    "RF_clf = RandomForestClassifier(n_estimators=14, random_state=42)#, max_features='sqrt')\n",
    "RF_clf.fit(X_train, y_train)\n",
    "\n",
    "# predicting the test values\n",
    "y_pred4 = RF_clf.predict(X_test)\n",
    "\n",
    "# printing the test accuracy\n",
    "print('The test accuracy score of Random Forest is ', round(accuracy_score(y_test, y_pred4)*100, 2), \"%\")"
   ]
  },
  {
   "cell_type": "code",
   "execution_count": 33,
   "metadata": {},
   "outputs": [
    {
     "name": "stdout",
     "output_type": "stream",
     "text": [
      "f1_score:  0.875\n",
      "precision_score:  0.875\n",
      "recall_score:  0.875\n"
     ]
    }
   ],
   "source": [
    "#F1_score ,precision score and recall score\n",
    "\n",
    "print(\"f1_score: \", f1_score(y_test, y_pred4))\n",
    "print(\"precision_score: \", precision_score(y_test, y_pred4))\n",
    "print(\"recall_score: \", recall_score(y_test, y_pred4))"
   ]
  },
  {
   "cell_type": "code",
   "execution_count": 34,
   "metadata": {},
   "outputs": [],
   "source": [
    "import pickle \n",
    "\n",
    "with open('RF_clf-1.0.pkl', 'wb') as f:\n",
    "    pickle.dump(RF_clf, f)"
   ]
  },
  {
   "cell_type": "code",
   "execution_count": 35,
   "metadata": {},
   "outputs": [],
   "source": [
    "#(binary: “1”, means “There is a risk”, “0” means “There is no risk”)"
   ]
  },
  {
   "cell_type": "markdown",
   "metadata": {},
   "source": [
    "****"
   ]
  }
 ],
 "metadata": {
  "kernelspec": {
   "display_name": "Python 3 (ipykernel)",
   "language": "python",
   "name": "python3"
  },
  "language_info": {
   "codemirror_mode": {
    "name": "ipython",
    "version": 3
   },
   "file_extension": ".py",
   "mimetype": "text/x-python",
   "name": "python",
   "nbconvert_exporter": "python",
   "pygments_lexer": "ipython3",
   "version": "3.9.12"
  }
 },
 "nbformat": 4,
 "nbformat_minor": 4
}
